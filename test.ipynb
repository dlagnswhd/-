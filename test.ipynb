{
 "cells": [
  {
   "cell_type": "code",
   "execution_count": 4,
   "metadata": {},
   "outputs": [],
   "source": [
    "import cv2\n",
    "\n",
    "image = cv2.imread(\"image.jpeg\", cv2.IMREAD_UNCHANGED)\n",
    "cv2.imshow(\"Test\",image)\n",
    "cv2.waitKey(0)\n",
    "cv2.destroyAllWindows()"
   ]
  },
  {
   "cell_type": "code",
   "execution_count": 27,
   "metadata": {},
   "outputs": [
    {
     "ename": "KeyboardInterrupt",
     "evalue": "",
     "output_type": "error",
     "traceback": [
      "\u001b[1;31m---------------------------------------------------------------------------\u001b[0m",
      "\u001b[1;31mKeyboardInterrupt\u001b[0m                         Traceback (most recent call last)",
      "Cell \u001b[1;32mIn [27], line 8\u001b[0m\n\u001b[0;32m      5\u001b[0m capture\u001b[38;5;241m.\u001b[39mset(cv2\u001b[38;5;241m.\u001b[39mCAP_PROP_FRAME_HEIGHT, \u001b[38;5;241m480\u001b[39m)\n\u001b[0;32m      7\u001b[0m \u001b[38;5;66;03m# 키 입력을 33ms간 기다렸다가 반복문 시행\u001b[39;00m\n\u001b[1;32m----> 8\u001b[0m \u001b[38;5;28;01mwhile\u001b[39;00m cv2\u001b[38;5;241m.\u001b[39mwaitKey(\u001b[38;5;241m33\u001b[39m) \u001b[38;5;241m<\u001b[39m \u001b[38;5;241m0\u001b[39m:\n\u001b[0;32m      9\u001b[0m     ret, frame \u001b[38;5;241m=\u001b[39m capture\u001b[38;5;241m.\u001b[39mread()\n\u001b[0;32m     10\u001b[0m     cv2\u001b[38;5;241m.\u001b[39mimshow(\u001b[38;5;124m\"\u001b[39m\u001b[38;5;124mVideoFrame\u001b[39m\u001b[38;5;124m\"\u001b[39m, frame)\n",
      "\u001b[1;31mKeyboardInterrupt\u001b[0m: "
     ]
    },
    {
     "ename": "",
     "evalue": "",
     "output_type": "error",
     "traceback": [
      "\u001b[1;31m현재 셀 또는 이전 셀에서 코드를 실행하는 동안 Kernel이 충돌했습니다. 셀의 코드를 검토하여 오류의 가능한 원인을 식별하세요. 자세한 내용을 보려면 <a href='https://aka.ms/vscodeJupyterKernelCrash'> 여기 </a> 를 클릭하세요. 자세한 내용은 Jupyter <a href='command:jupyter.viewOutput'>로그</a>를 참조하세요."
     ]
    }
   ],
   "source": [
    "import cv2\n",
    "\n",
    "capture = cv2.VideoCapture(0)\n",
    "capture.set(cv2.CAP_PROP_FRAME_WIDTH, 640)\n",
    "capture.set(cv2.CAP_PROP_FRAME_HEIGHT, 480)\n",
    "\n",
    "# 키 입력을 33ms간 기다렸다가 반복문 시행\n",
    "while cv2.waitKey(33) < 0:\n",
    "    ret, frame = capture.read()\n",
    "    cv2.imshow(\"VideoFrame\", frame)\n",
    "\n",
    "capture.release()\n",
    "cv2.destroyAllWindows()"
   ]
  },
  {
   "cell_type": "code",
   "execution_count": 26,
   "metadata": {},
   "outputs": [],
   "source": [
    "import tkinter\n",
    "\n",
    "# 창 만들기\n",
    "window=tkinter.Tk()\n",
    "\n",
    "window.title(\"창\")\n",
    "#가로x세로+x좌표+y좌표\n",
    "window.geometry(\"640x400+100+100\")\n",
    "# 창 조절 가능 여부\n",
    "window.resizable(False, False)\n",
    "\n",
    "\n",
    "label=tkinter.Label(window, text=\"안녕하세요.\")\n",
    "# 배치 격자형으로 배치하고 싶을 때는 grid를 사용한다.\n",
    "label.pack()\n",
    "\n",
    "def button_action():\n",
    "\tlabel.config(text=\"abc\")\n",
    "\n",
    "button = tkinter.Button(window,  # 대상이 되는 창\n",
    "\t\t\t\t\t\t\t\t\t\t\t\ttext=\"my button\", # 버튼에 표시할 텍스트\n",
    "\t\t\t\t\t\t\t\t\t\t\t\toverrelief=\"solid\",  # 버튼에 마우스를 올렸을 때 모양\n",
    "\t\t\t\t\t\t\t\t\t\t\t\twidth=15, # 너비\n",
    "\t\t\t\t\t\t\t\t\t\t\t\tcommand=button_action, # 버튼을 눌렀을 때 실행될 함수\n",
    "\t\t\t\t\t\t\t\t\t\t\t\trepeatdelay=1000, # 눌러진 상태에서 반복될 때까지 딜레이\n",
    "\t\t\t\t\t\t\t\t\t\t\t\trepeatinterval=100 # 눌러진 상태에서 반복될 시간 간격\n",
    ")\n",
    "button.pack()\n",
    "\n",
    "\n",
    "\n",
    "\n",
    "# x 버튼을 누를 때까지 띄우기\n",
    "window.mainloop()\n",
    "\n",
    "\n",
    "\n"
   ]
  },
  {
   "cell_type": "code",
   "execution_count": null,
   "metadata": {},
   "outputs": [],
   "source": []
  }
 ],
 "metadata": {
  "kernelspec": {
   "display_name": "Python 3.9.13 64-bit",
   "language": "python",
   "name": "python3"
  },
  "language_info": {
   "codemirror_mode": {
    "name": "ipython",
    "version": 3
   },
   "file_extension": ".py",
   "mimetype": "text/x-python",
   "name": "python",
   "nbconvert_exporter": "python",
   "pygments_lexer": "ipython3",
   "version": "3.9.13"
  },
  "orig_nbformat": 4,
  "vscode": {
   "interpreter": {
    "hash": "82ed002fa2d4956f5c6aec99bcefe0f73a9f79882f3c9e2319b14958a5896ac5"
   }
  }
 },
 "nbformat": 4,
 "nbformat_minor": 2
}
